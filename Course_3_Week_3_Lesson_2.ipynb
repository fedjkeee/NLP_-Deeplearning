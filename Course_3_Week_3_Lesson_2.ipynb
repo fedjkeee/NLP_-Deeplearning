{
  "nbformat": 4,
  "nbformat_minor": 0,
  "metadata": {
    "accelerator": "GPU",
    "colab": {
      "name": "Copy of Course 3 - Week 3 - Lesson 2.ipynb",
      "provenance": [],
      "collapsed_sections": [],
      "toc_visible": true,
      "include_colab_link": true
    },
    "kernelspec": {
      "display_name": "Python 3",
      "language": "python",
      "name": "python3"
    },
    "language_info": {
      "codemirror_mode": {
        "name": "ipython",
        "version": 3
      },
      "file_extension": ".py",
      "mimetype": "text/x-python",
      "name": "python",
      "nbconvert_exporter": "python",
      "pygments_lexer": "ipython3",
      "version": "3.7.6"
    }
  },
  "cells": [
    {
      "cell_type": "markdown",
      "metadata": {
        "id": "view-in-github",
        "colab_type": "text"
      },
      "source": [
        "<a href=\"https://colab.research.google.com/github/fedjkeee/NLP_-Deeplearning/blob/main/Course_3_Week_3_Lesson_2.ipynb\" target=\"_parent\"><img src=\"https://colab.research.google.com/assets/colab-badge.svg\" alt=\"Open In Colab\"/></a>"
      ]
    },
    {
      "cell_type": "code",
      "metadata": {
        "id": "zX4Kg8DUTKWO"
      },
      "source": [
        "#@title Licensed under the Apache License, Version 2.0 (the \"License\");\n",
        "# you may not use this file except in compliance with the License.\n",
        "# You may obtain a copy of the License at\n",
        "#\n",
        "# https://www.apache.org/licenses/LICENSE-2.0\n",
        "#\n",
        "# Unless required by applicable law or agreed to in writing, software\n",
        "# distributed under the License is distributed on an \"AS IS\" BASIS,\n",
        "# WITHOUT WARRANTIES OR CONDITIONS OF ANY KIND, either express or implied.\n",
        "# See the License for the specific language governing permissions and\n",
        "# limitations under the License."
      ],
      "execution_count": null,
      "outputs": []
    },
    {
      "cell_type": "markdown",
      "metadata": {
        "id": "SWq3W3N2AYtL"
      },
      "source": [
        "<a href=\"https://colab.research.google.com/github/lmoroney/dlaicourse/blob/master/TensorFlow%20In%20Practice/Course%203%20-%20NLP/Course%203%20-%20Week%203%20-%20Lesson%202.ipynb\" target=\"_parent\"><img src=\"https://colab.research.google.com/assets/colab-badge.svg\" alt=\"Open In Colab\"/></a>"
      ]
    },
    {
      "cell_type": "code",
      "metadata": {
        "colab": {
          "base_uri": "https://localhost:8080/"
        },
        "id": "jGwXGIXvFhXW",
        "outputId": "9ffa72c4-a9a7-49d6-dbf2-d4da884a531c"
      },
      "source": [
        "import numpy as np\n",
        "\n",
        "import json\n",
        "import tensorflow as tf\n",
        "\n",
        "from tensorflow.keras.preprocessing.text import Tokenizer\n",
        "from tensorflow.keras.preprocessing.sequence import pad_sequences\n",
        "\n",
        "!wget --no-check-certificate \\\n",
        "    https://storage.googleapis.com/laurencemoroney-blog.appspot.com/sarcasm.json \\\n",
        "    -O /tmp/sarcasm.json\n",
        "\n",
        "vocab_size = 1000\n",
        "embedding_dim = 16\n",
        "max_length = 120\n",
        "trunc_type='post'\n",
        "padding_type='post'\n",
        "oov_tok = \"<OOV>\"\n",
        "training_size = 20000\n",
        "\n",
        "\n",
        "with open(\"/tmp/sarcasm.json\", 'r') as f:\n",
        "    datastore = json.load(f)\n",
        "\n",
        "\n",
        "sentences = []\n",
        "labels = []\n",
        "urls = []\n",
        "for item in datastore:\n",
        "    sentences.append(item['headline'])\n",
        "    labels.append(item['is_sarcastic'])\n",
        "\n",
        "training_sentences = sentences[0:training_size]\n",
        "testing_sentences = sentences[training_size:]\n",
        "training_labels = labels[0:training_size]\n",
        "testing_labels = labels[training_size:]\n",
        "\n",
        "tokenizer = Tokenizer(num_words=vocab_size, oov_token=oov_tok)\n",
        "tokenizer.fit_on_texts(training_sentences)\n",
        "\n",
        "word_index = tokenizer.word_index\n",
        "\n",
        "training_sequences = tokenizer.texts_to_sequences(training_sentences)\n",
        "training_padded = pad_sequences(training_sequences, maxlen=max_length, padding=padding_type, truncating=trunc_type)\n",
        "\n",
        "testing_sequences = tokenizer.texts_to_sequences(testing_sentences)\n",
        "testing_padded = pad_sequences(testing_sequences, maxlen=max_length, padding=padding_type, truncating=trunc_type)\n",
        "\n",
        "model = tf.keras.Sequential([\n",
        "    tf.keras.layers.Embedding(vocab_size, embedding_dim, input_length=max_length),\n",
        "    tf.keras.layers.Bidirectional(tf.keras.layers.LSTM(32)),\n",
        "    tf.keras.layers.Dense(24, activation='relu'),\n",
        "    tf.keras.layers.Dense(1, activation='sigmoid')\n",
        "])\n",
        "model.compile(loss='binary_crossentropy',optimizer='adam',metrics=['accuracy'])\n",
        "model.summary()\n",
        "\n",
        "num_epochs = 50\n",
        "training_padded = np.array(training_padded)\n",
        "training_labels = np.array(training_labels)\n",
        "testing_padded = np.array(testing_padded)\n",
        "testing_labels = np.array(testing_labels)\n",
        "history = model.fit(training_padded, training_labels, epochs=num_epochs, validation_data=(testing_padded, testing_labels), verbose=1)\n"
      ],
      "execution_count": null,
      "outputs": [
        {
          "output_type": "stream",
          "text": [
            "--2021-02-24 12:27:07--  https://storage.googleapis.com/laurencemoroney-blog.appspot.com/sarcasm.json\n",
            "Resolving storage.googleapis.com (storage.googleapis.com)... 74.125.20.128, 74.125.142.128, 74.125.195.128, ...\n",
            "Connecting to storage.googleapis.com (storage.googleapis.com)|74.125.20.128|:443... connected.\n",
            "HTTP request sent, awaiting response... 200 OK\n",
            "Length: 5643545 (5.4M) [application/json]\n",
            "Saving to: ‘/tmp/sarcasm.json’\n",
            "\n",
            "/tmp/sarcasm.json   100%[===================>]   5.38M  --.-KB/s    in 0.1s    \n",
            "\n",
            "2021-02-24 12:27:07 (45.7 MB/s) - ‘/tmp/sarcasm.json’ saved [5643545/5643545]\n",
            "\n",
            "Model: \"sequential\"\n",
            "_________________________________________________________________\n",
            "Layer (type)                 Output Shape              Param #   \n",
            "=================================================================\n",
            "embedding (Embedding)        (None, 120, 16)           16000     \n",
            "_________________________________________________________________\n",
            "bidirectional (Bidirectional (None, 64)                12544     \n",
            "_________________________________________________________________\n",
            "dense (Dense)                (None, 24)                1560      \n",
            "_________________________________________________________________\n",
            "dense_1 (Dense)              (None, 1)                 25        \n",
            "=================================================================\n",
            "Total params: 30,129\n",
            "Trainable params: 30,129\n",
            "Non-trainable params: 0\n",
            "_________________________________________________________________\n",
            "Epoch 1/50\n",
            "625/625 [==============================] - 20s 18ms/step - loss: 0.5540 - accuracy: 0.6771 - val_loss: 0.3898 - val_accuracy: 0.8202\n",
            "Epoch 2/50\n",
            "625/625 [==============================] - 10s 15ms/step - loss: 0.3485 - accuracy: 0.8441 - val_loss: 0.3842 - val_accuracy: 0.8234\n",
            "Epoch 3/50\n",
            "625/625 [==============================] - 10s 15ms/step - loss: 0.3261 - accuracy: 0.8521 - val_loss: 0.3683 - val_accuracy: 0.8314\n",
            "Epoch 4/50\n",
            "625/625 [==============================] - 10s 15ms/step - loss: 0.3150 - accuracy: 0.8584 - val_loss: 0.3819 - val_accuracy: 0.8213\n",
            "Epoch 5/50\n",
            "625/625 [==============================] - 10s 15ms/step - loss: 0.2946 - accuracy: 0.8707 - val_loss: 0.3765 - val_accuracy: 0.8274\n",
            "Epoch 6/50\n",
            "625/625 [==============================] - 9s 15ms/step - loss: 0.2843 - accuracy: 0.8722 - val_loss: 0.3746 - val_accuracy: 0.8335\n",
            "Epoch 7/50\n",
            "625/625 [==============================] - 10s 15ms/step - loss: 0.2775 - accuracy: 0.8776 - val_loss: 0.3805 - val_accuracy: 0.8307\n",
            "Epoch 8/50\n",
            "625/625 [==============================] - 10s 15ms/step - loss: 0.2803 - accuracy: 0.8771 - val_loss: 0.3928 - val_accuracy: 0.8293\n",
            "Epoch 9/50\n",
            "625/625 [==============================] - 10s 16ms/step - loss: 0.2713 - accuracy: 0.8831 - val_loss: 0.4051 - val_accuracy: 0.8275\n",
            "Epoch 10/50\n",
            "625/625 [==============================] - 10s 15ms/step - loss: 0.2609 - accuracy: 0.8882 - val_loss: 0.4152 - val_accuracy: 0.8250\n",
            "Epoch 11/50\n",
            "625/625 [==============================] - 10s 16ms/step - loss: 0.2527 - accuracy: 0.8889 - val_loss: 0.4086 - val_accuracy: 0.8284\n",
            "Epoch 12/50\n",
            "625/625 [==============================] - 10s 16ms/step - loss: 0.2453 - accuracy: 0.8933 - val_loss: 0.4168 - val_accuracy: 0.8262\n",
            "Epoch 13/50\n",
            "625/625 [==============================] - 10s 15ms/step - loss: 0.2413 - accuracy: 0.8974 - val_loss: 0.4293 - val_accuracy: 0.8264\n",
            "Epoch 14/50\n",
            "625/625 [==============================] - 10s 16ms/step - loss: 0.2331 - accuracy: 0.9026 - val_loss: 0.4497 - val_accuracy: 0.8131\n",
            "Epoch 15/50\n",
            "625/625 [==============================] - 10s 15ms/step - loss: 0.2240 - accuracy: 0.9039 - val_loss: 0.4896 - val_accuracy: 0.8117\n",
            "Epoch 16/50\n",
            "625/625 [==============================] - 10s 15ms/step - loss: 0.2183 - accuracy: 0.9086 - val_loss: 0.4518 - val_accuracy: 0.8210\n",
            "Epoch 17/50\n",
            "625/625 [==============================] - 10s 16ms/step - loss: 0.2042 - accuracy: 0.9141 - val_loss: 0.4905 - val_accuracy: 0.8201\n",
            "Epoch 18/50\n",
            "625/625 [==============================] - 10s 16ms/step - loss: 0.2048 - accuracy: 0.9128 - val_loss: 0.5282 - val_accuracy: 0.8164\n",
            "Epoch 19/50\n",
            "625/625 [==============================] - 10s 15ms/step - loss: 0.1955 - accuracy: 0.9158 - val_loss: 0.5158 - val_accuracy: 0.8144\n",
            "Epoch 20/50\n",
            "625/625 [==============================] - 10s 15ms/step - loss: 0.1812 - accuracy: 0.9241 - val_loss: 0.5591 - val_accuracy: 0.8155\n",
            "Epoch 21/50\n",
            "625/625 [==============================] - 10s 15ms/step - loss: 0.1754 - accuracy: 0.9275 - val_loss: 0.5990 - val_accuracy: 0.8085\n",
            "Epoch 22/50\n",
            "625/625 [==============================] - 10s 15ms/step - loss: 0.1738 - accuracy: 0.9268 - val_loss: 0.6070 - val_accuracy: 0.8162\n",
            "Epoch 23/50\n",
            "625/625 [==============================] - 10s 15ms/step - loss: 0.1594 - accuracy: 0.9328 - val_loss: 0.6512 - val_accuracy: 0.8129\n",
            "Epoch 24/50\n",
            "625/625 [==============================] - 10s 16ms/step - loss: 0.1509 - accuracy: 0.9384 - val_loss: 0.7051 - val_accuracy: 0.8089\n",
            "Epoch 25/50\n",
            "625/625 [==============================] - 10s 16ms/step - loss: 0.1429 - accuracy: 0.9401 - val_loss: 0.7361 - val_accuracy: 0.8109\n",
            "Epoch 26/50\n",
            "625/625 [==============================] - 10s 16ms/step - loss: 0.1422 - accuracy: 0.9427 - val_loss: 0.7310 - val_accuracy: 0.8004\n",
            "Epoch 27/50\n",
            "625/625 [==============================] - 10s 16ms/step - loss: 0.1359 - accuracy: 0.9427 - val_loss: 0.7984 - val_accuracy: 0.8041\n",
            "Epoch 28/50\n",
            "625/625 [==============================] - 10s 16ms/step - loss: 0.1279 - accuracy: 0.9492 - val_loss: 0.8405 - val_accuracy: 0.8031\n",
            "Epoch 29/50\n",
            "625/625 [==============================] - 10s 16ms/step - loss: 0.1195 - accuracy: 0.9544 - val_loss: 0.8520 - val_accuracy: 0.8013\n",
            "Epoch 30/50\n",
            "625/625 [==============================] - 10s 16ms/step - loss: 0.1150 - accuracy: 0.9546 - val_loss: 0.9342 - val_accuracy: 0.8022\n",
            "Epoch 31/50\n",
            "625/625 [==============================] - 10s 16ms/step - loss: 0.1125 - accuracy: 0.9556 - val_loss: 0.9006 - val_accuracy: 0.8055\n",
            "Epoch 32/50\n",
            "625/625 [==============================] - 10s 16ms/step - loss: 0.1096 - accuracy: 0.9568 - val_loss: 1.0438 - val_accuracy: 0.8052\n",
            "Epoch 33/50\n",
            "625/625 [==============================] - 10s 16ms/step - loss: 0.0998 - accuracy: 0.9610 - val_loss: 1.0588 - val_accuracy: 0.8006\n",
            "Epoch 34/50\n",
            "625/625 [==============================] - 10s 16ms/step - loss: 0.0982 - accuracy: 0.9603 - val_loss: 1.1035 - val_accuracy: 0.8024\n",
            "Epoch 35/50\n",
            "625/625 [==============================] - 10s 16ms/step - loss: 0.0875 - accuracy: 0.9646 - val_loss: 1.1122 - val_accuracy: 0.8003\n",
            "Epoch 36/50\n",
            "625/625 [==============================] - 10s 16ms/step - loss: 0.0892 - accuracy: 0.9637 - val_loss: 1.1570 - val_accuracy: 0.7989\n",
            "Epoch 37/50\n",
            "625/625 [==============================] - 10s 16ms/step - loss: 0.0798 - accuracy: 0.9695 - val_loss: 1.1672 - val_accuracy: 0.8019\n",
            "Epoch 38/50\n",
            "625/625 [==============================] - 10s 16ms/step - loss: 0.0798 - accuracy: 0.9695 - val_loss: 1.3409 - val_accuracy: 0.7961\n",
            "Epoch 39/50\n",
            "625/625 [==============================] - 10s 16ms/step - loss: 0.0760 - accuracy: 0.9707 - val_loss: 1.3545 - val_accuracy: 0.7936\n",
            "Epoch 40/50\n",
            "625/625 [==============================] - 10s 16ms/step - loss: 0.0785 - accuracy: 0.9697 - val_loss: 1.3722 - val_accuracy: 0.8027\n",
            "Epoch 41/50\n",
            "625/625 [==============================] - 10s 16ms/step - loss: 0.0719 - accuracy: 0.9705 - val_loss: 1.4209 - val_accuracy: 0.7977\n",
            "Epoch 42/50\n",
            "625/625 [==============================] - 10s 16ms/step - loss: 0.0679 - accuracy: 0.9728 - val_loss: 1.4687 - val_accuracy: 0.7927\n",
            "Epoch 43/50\n",
            "625/625 [==============================] - 10s 16ms/step - loss: 0.0684 - accuracy: 0.9729 - val_loss: 1.4611 - val_accuracy: 0.7994\n",
            "Epoch 44/50\n",
            "625/625 [==============================] - 10s 16ms/step - loss: 0.0704 - accuracy: 0.9729 - val_loss: 1.5170 - val_accuracy: 0.7989\n",
            "Epoch 45/50\n",
            "625/625 [==============================] - 10s 16ms/step - loss: 0.0618 - accuracy: 0.9755 - val_loss: 1.5742 - val_accuracy: 0.7956\n",
            "Epoch 46/50\n",
            "625/625 [==============================] - 10s 16ms/step - loss: 0.0601 - accuracy: 0.9755 - val_loss: 1.6613 - val_accuracy: 0.7910\n",
            "Epoch 47/50\n",
            "625/625 [==============================] - 10s 16ms/step - loss: 0.0565 - accuracy: 0.9759 - val_loss: 1.6308 - val_accuracy: 0.7903\n",
            "Epoch 48/50\n",
            "625/625 [==============================] - 10s 16ms/step - loss: 0.0663 - accuracy: 0.9733 - val_loss: 1.5504 - val_accuracy: 0.7962\n",
            "Epoch 49/50\n",
            "625/625 [==============================] - 10s 16ms/step - loss: 0.0551 - accuracy: 0.9779 - val_loss: 1.6230 - val_accuracy: 0.7959\n",
            "Epoch 50/50\n",
            "625/625 [==============================] - 10s 16ms/step - loss: 0.0576 - accuracy: 0.9766 - val_loss: 1.6217 - val_accuracy: 0.7901\n"
          ],
          "name": "stdout"
        }
      ]
    },
    {
      "cell_type": "code",
      "metadata": {
        "colab": {
          "base_uri": "https://localhost:8080/",
          "height": 541
        },
        "id": "g9DC6dmLF8DC",
        "outputId": "3fb0ab15-74bb-49e8-ce5c-b51fd9d17248"
      },
      "source": [
        "import matplotlib.pyplot as plt\n",
        "\n",
        "\n",
        "def plot_graphs(history, string):\n",
        "  plt.plot(history.history[string])\n",
        "  plt.plot(history.history['val_'+string])\n",
        "  plt.xlabel(\"Epochs\")\n",
        "  plt.ylabel(string)\n",
        "  plt.legend([string, 'val_'+string])\n",
        "  plt.show()\n",
        "\n",
        "plot_graphs(history, 'accuracy')\n",
        "plot_graphs(history, 'loss')"
      ],
      "execution_count": null,
      "outputs": [
        {
          "output_type": "display_data",
          "data": {
            "image/png": "[encoded data removed]",
            "text/plain": [
              "<Figure size 432x288 with 1 Axes>"
            ]
          },
          "metadata": {
            "tags": [],
            "needs_background": "light"
          }
        },
        {
          "output_type": "display_data",
          "data": {
            "image/png": "[encoded data removed]",
            "text/plain": [
              "<Figure size 432x288 with 1 Axes>"
            ]
          },
          "metadata": {
            "tags": [],
            "needs_background": "light"
          }
        }
      ]
    },
    {
      "cell_type": "code",
      "metadata": {
        "id": "7ZEZIUppGhdi"
      },
      "source": [
        "model.save(\"test.h5\")"
      ],
      "execution_count": null,
      "outputs": []
    }
  ]
}